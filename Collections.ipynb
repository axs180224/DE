{
 "cells": [
  {
   "cell_type": "code",
   "execution_count": 2,
   "metadata": {},
   "outputs": [],
   "source": [
    "#Types of Collections\n",
    "#Tuples, Lists, Dictionaries, Set\n",
    "\n",
    "my_list = [\"George\", \"Jim\", \"Jimbo\"]\n",
    "\n"
   ]
  },
  {
   "cell_type": "code",
   "execution_count": 7,
   "metadata": {},
   "outputs": [
    {
     "name": "stdout",
     "output_type": "stream",
     "text": [
      "['George', 'Jim', 'Jimbo']\n",
      "['George', 'Jim']\n",
      "['Jimbo', 'Jim', 'George']\n"
     ]
    }
   ],
   "source": [
    "print(my_list)\n",
    "print(my_list[0:2])\n",
    "\n",
    "#easiest way to reverse a list\n",
    "print(my_list[::-1])\n"
   ]
  },
  {
   "cell_type": "code",
   "execution_count": 10,
   "metadata": {},
   "outputs": [
    {
     "name": "stdout",
     "output_type": "stream",
     "text": [
      "{1, 2, 3, 4}\n",
      "{'this', 'This', 'and'}\n"
     ]
    }
   ],
   "source": [
    "#Sets \n",
    "#unordered\n",
    "#cannot index a set\n",
    "#no duplicate values in set\n",
    "\n",
    "string1 = \"This and this and and this\"\n",
    "my_set = {1, 2, 3, 4}\n",
    "string_set = {}\n",
    "print(my_set)\n",
    "\n",
    "print(set(string1.split()))"
   ]
  },
  {
   "cell_type": "code",
   "execution_count": 13,
   "metadata": {},
   "outputs": [
    {
     "name": "stdout",
     "output_type": "stream",
     "text": [
      "[0, 0, 1, 2, 3, 4, 5, 6, 7, 8, 9]\n",
      "[0, 0, 1, 2, 3, 4, 5, 6, 7, 8] 9\n"
     ]
    }
   ],
   "source": [
    "#List methods\n",
    "#append adds to end of list\n",
    "\n",
    "another_list = []\n",
    "\n",
    "another_list.append(0)\n",
    "for i in range(10):\n",
    "    another_list.append(i)\n",
    "\n",
    "print(another_list)\n",
    "\n",
    "#pop takes off the end of a list \n",
    "x = another_list.pop()\n",
    "print(another_list, x)"
   ]
  },
  {
   "cell_type": "code",
   "execution_count": 17,
   "metadata": {},
   "outputs": [
    {
     "name": "stdout",
     "output_type": "stream",
     "text": [
      "[1, 2, 10, 4, 5]\n",
      "[1, 2, 4, 5]\n",
      "[1, 2, 10, 4, 5]\n",
      "True\n"
     ]
    }
   ],
   "source": [
    "#list indexing\n",
    "#lists are mutable\n",
    "list3 = [1, 2, 3, 4, 5]\n",
    "list3[2] = 10\n",
    "print(list3)\n",
    "\n",
    "#remove functions\n",
    "list3.remove(10)\n",
    "print(list3)\n",
    "\n",
    "#insert\n",
    "list3.insert(2, 10)\n",
    "print(list3)\n",
    "\n",
    "print(10 in list3)"
   ]
  },
  {
   "cell_type": "code",
   "execution_count": 20,
   "metadata": {},
   "outputs": [
    {
     "name": "stdout",
     "output_type": "stream",
     "text": [
      "[1, 2, 10, 4, 5, 6, 7, 8, 9, 11]\n"
     ]
    }
   ],
   "source": [
    "list4 = [6, 7, 8, 9, 11]\n",
    "print(list3 + list4)"
   ]
  },
  {
   "cell_type": "code",
   "execution_count": 23,
   "metadata": {},
   "outputs": [
    {
     "name": "stdout",
     "output_type": "stream",
     "text": [
      "0\n",
      "1\n",
      "1\n",
      "2\n",
      "2\n",
      "10\n",
      "3\n",
      "4\n",
      "4\n",
      "5\n"
     ]
    }
   ],
   "source": [
    "for i, elem in enumerate(list3):\n",
    "    print(i)\n",
    "    print(elem)"
   ]
  },
  {
   "cell_type": "code",
   "execution_count": 24,
   "metadata": {},
   "outputs": [
    {
     "name": "stdout",
     "output_type": "stream",
     "text": [
      "['Justin', 'Lee', 'Valerie']\n",
      "['JUSTIN', 'LEE', 'VALERIE']\n"
     ]
    }
   ],
   "source": [
    "names = [\"Justin\", \"Lee\", \"Valerie\"]\n",
    "cap_names = [name.upper() for name in names]\n",
    "\n",
    "print(names)\n",
    "print(cap_names)"
   ]
  },
  {
   "cell_type": "code",
   "execution_count": 26,
   "metadata": {},
   "outputs": [
    {
     "name": "stdout",
     "output_type": "stream",
     "text": [
      "['Lee', 'Valerie']\n"
     ]
    }
   ],
   "source": [
    "#list comprehension\n",
    "#basically backwards for loop \n",
    "e_names = [name for name in names if 'e' in name]\n",
    "print(e_names)"
   ]
  },
  {
   "cell_type": "code",
   "execution_count": 29,
   "metadata": {},
   "outputs": [
    {
     "name": "stdout",
     "output_type": "stream",
     "text": [
      "[1, 2, 4, 5, 10]\n"
     ]
    }
   ],
   "source": [
    "#Sorting\n",
    "list3.sort(reverse = True)\n",
    "print(list3)"
   ]
  },
  {
   "cell_type": "code",
   "execution_count": 30,
   "metadata": {},
   "outputs": [
    {
     "name": "stdout",
     "output_type": "stream",
     "text": [
      "{'name': 'Justin', 'age': 'Classified'}\n"
     ]
    }
   ],
   "source": [
    "# Dictionary\n",
    "#Key Value Pair\n",
    "\n",
    "dict1 = {\n",
    "    \"name\" : \"Justin\",\n",
    "    \"age\" : \"Classified\"\n",
    "}\n",
    "print(dict1)"
   ]
  },
  {
   "cell_type": "code",
   "execution_count": 35,
   "metadata": {},
   "outputs": [
    {
     "name": "stdout",
     "output_type": "stream",
     "text": [
      "name Justin\n",
      "age Classified\n",
      "name\n",
      "age\n",
      "Justin\n",
      "Classified\n"
     ]
    }
   ],
   "source": [
    "#Iterating thru dictionary\n",
    "\n",
    "for k, v in dict1.items():\n",
    "    print(k,v)\n",
    "\n",
    "for key in dict1.keys():\n",
    "    print(key)\n",
    "\n",
    "for value in dict1.values():\n",
    "    print(value)"
   ]
  },
  {
   "cell_type": "code",
   "execution_count": 36,
   "metadata": {},
   "outputs": [],
   "source": [
    "dict2 = {\n",
    "    \"Person 1\" : {\n",
    "        \"name\" : 'justin',\n",
    "        \"age\" : \"2\"\n",
    "    }\n",
    "}"
   ]
  },
  {
   "cell_type": "code",
   "execution_count": 39,
   "metadata": {},
   "outputs": [
    {
     "name": "stdout",
     "output_type": "stream",
     "text": [
      "justin\n"
     ]
    }
   ],
   "source": [
    "print(dict2[\"Person 1\"][\"name\"])\n"
   ]
  },
  {
   "cell_type": "code",
   "execution_count": 42,
   "metadata": {},
   "outputs": [
    {
     "name": "stdout",
     "output_type": "stream",
     "text": [
      "('Justin', 'Lee', 3, 1)\n"
     ]
    }
   ],
   "source": [
    "# Tuple\n",
    "# tuples are imutable\n",
    "my_tuple = (\"Justin\", \"Lee\", 3, 1)\n",
    "print(my_tuple)"
   ]
  },
  {
   "cell_type": "code",
   "execution_count": 43,
   "metadata": {},
   "outputs": [
    {
     "name": "stdout",
     "output_type": "stream",
     "text": [
      "Justin\n",
      "Lee\n",
      "3\n",
      "1\n"
     ]
    }
   ],
   "source": [
    "for i in my_tuple:\n",
    "    print(i)"
   ]
  },
  {
   "cell_type": "code",
   "execution_count": null,
   "metadata": {},
   "outputs": [],
   "source": []
  }
 ],
 "metadata": {
  "kernelspec": {
   "display_name": "Python 3",
   "language": "python",
   "name": "python3"
  },
  "language_info": {
   "codemirror_mode": {
    "name": "ipython",
    "version": 3
   },
   "file_extension": ".py",
   "mimetype": "text/x-python",
   "name": "python",
   "nbconvert_exporter": "python",
   "pygments_lexer": "ipython3",
   "version": "3.10.4"
  }
 },
 "nbformat": 4,
 "nbformat_minor": 2
}
