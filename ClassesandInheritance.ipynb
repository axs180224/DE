{
 "cells": [
  {
   "cell_type": "code",
   "execution_count": 27,
   "metadata": {},
   "outputs": [],
   "source": [
    "# Classes\n",
    "\n",
    "# Everything in python is an Object\n",
    "\n",
    "class Person:\n",
    "    population = 0 #class level variable\n",
    "    def __init__(self, name, age, **kwargs):\n",
    "        self.name = name\n",
    "        self.age = age\n",
    "        Person.population +=1\n",
    "\n",
    "    def __del__(self):\n",
    "        del self\n",
    "        Person.population -= 1\n",
    "\n",
    "    def __str__(self):\n",
    "        return f'{self.name}({self.age})'\n",
    "    \n",
    "    #def __repr__(self):\n",
    "     #   return f'{self.name} is {self.age}'\n",
    "    \n",
    "    def __eq__(self, other):\n",
    "        if(self.name == other.name) and (self.age == other.age):\n",
    "            return True\n",
    "        else:\n",
    "            return False \n",
    "\n",
    "    def getAge(self):\n",
    "        return self.age\n",
    "\n",
    "    @classmethod\n",
    "    def get_population(cls):\n",
    "        return cls.population\n",
    "\n",
    "    @staticmethod\n",
    "    def isAdult(x):\n",
    "        return x >= 18\n"
   ]
  },
  {
   "cell_type": "code",
   "execution_count": 25,
   "metadata": {},
   "outputs": [],
   "source": [
    "john = Person('John', 23)"
   ]
  },
  {
   "cell_type": "code",
   "execution_count": 11,
   "metadata": {},
   "outputs": [
    {
     "name": "stdout",
     "output_type": "stream",
     "text": [
      "1\n"
     ]
    }
   ],
   "source": [
    "john.getAge()\n",
    "print(Person.get_population())"
   ]
  },
  {
   "cell_type": "code",
   "execution_count": 12,
   "metadata": {},
   "outputs": [
    {
     "data": {
      "text/plain": [
       "True"
      ]
     },
     "execution_count": 12,
     "metadata": {},
     "output_type": "execute_result"
    }
   ],
   "source": [
    "Person.isAdult(20)"
   ]
  },
  {
   "cell_type": "code",
   "execution_count": 13,
   "metadata": {},
   "outputs": [
    {
     "name": "stdout",
     "output_type": "stream",
     "text": [
      "0\n"
     ]
    }
   ],
   "source": [
    "del john\n",
    "print(Person.get_population())"
   ]
  },
  {
   "cell_type": "code",
   "execution_count": 28,
   "metadata": {},
   "outputs": [],
   "source": [
    "john2 = Person('John', 23)"
   ]
  },
  {
   "cell_type": "code",
   "execution_count": 24,
   "metadata": {},
   "outputs": [
    {
     "data": {
      "text/plain": [
       "john 2 is 13"
      ]
     },
     "execution_count": 24,
     "metadata": {},
     "output_type": "execute_result"
    }
   ],
   "source": [
    "john2"
   ]
  },
  {
   "cell_type": "code",
   "execution_count": 16,
   "metadata": {},
   "outputs": [
    {
     "data": {
      "text/plain": [
       "1"
      ]
     },
     "execution_count": 16,
     "metadata": {},
     "output_type": "execute_result"
    }
   ],
   "source": [
    "Person.get_population()"
   ]
  },
  {
   "cell_type": "code",
   "execution_count": 21,
   "metadata": {},
   "outputs": [
    {
     "name": "stdout",
     "output_type": "stream",
     "text": [
      "john 2(13)\n"
     ]
    }
   ],
   "source": [
    "print(john2)"
   ]
  },
  {
   "cell_type": "code",
   "execution_count": 29,
   "metadata": {},
   "outputs": [
    {
     "name": "stdout",
     "output_type": "stream",
     "text": [
      "True\n"
     ]
    }
   ],
   "source": [
    "print(john == john2) # false bc not same memory address\n",
    "#now prints true becuse of dunder"
   ]
  },
  {
   "cell_type": "code",
   "execution_count": 31,
   "metadata": {},
   "outputs": [],
   "source": [
    "#Python doesnt allow method overloading\n",
    "#Python doesnt have true encapsulation\n",
    "\n",
    "class Circle:\n",
    "    _pi = 3.14 #simulates protected \n",
    "    __pi = 3.14 #simulates private"
   ]
  },
  {
   "cell_type": "code",
   "execution_count": 33,
   "metadata": {},
   "outputs": [
    {
     "ename": "AttributeError",
     "evalue": "type object 'Circle' has no attribute '__pi'",
     "output_type": "error",
     "traceback": [
      "\u001b[1;31m---------------------------------------------------------------------------\u001b[0m",
      "\u001b[1;31mAttributeError\u001b[0m                            Traceback (most recent call last)",
      "Cell \u001b[1;32mIn[33], line 1\u001b[0m\n\u001b[1;32m----> 1\u001b[0m \u001b[38;5;28mprint\u001b[39m(\u001b[43mCircle\u001b[49m\u001b[38;5;241;43m.\u001b[39;49m\u001b[43m__pi\u001b[49m)\n",
      "\u001b[1;31mAttributeError\u001b[0m: type object 'Circle' has no attribute '__pi'"
     ]
    }
   ],
   "source": [
    "print(Circle.__pi)"
   ]
  },
  {
   "cell_type": "code",
   "execution_count": 34,
   "metadata": {},
   "outputs": [
    {
     "data": {
      "text/plain": [
       "3.14"
      ]
     },
     "execution_count": 34,
     "metadata": {},
     "output_type": "execute_result"
    }
   ],
   "source": [
    "circle1 = Circle()\n",
    "circle1._Circle__pi"
   ]
  }
 ],
 "metadata": {
  "kernelspec": {
   "display_name": ".venv",
   "language": "python",
   "name": "python3"
  },
  "language_info": {
   "codemirror_mode": {
    "name": "ipython",
    "version": 3
   },
   "file_extension": ".py",
   "mimetype": "text/x-python",
   "name": "python",
   "nbconvert_exporter": "python",
   "pygments_lexer": "ipython3",
   "version": "3.10.4"
  }
 },
 "nbformat": 4,
 "nbformat_minor": 2
}
