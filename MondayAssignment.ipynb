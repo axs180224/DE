{
 "cells": [
  {
   "cell_type": "markdown",
   "metadata": {},
   "source": [
    "# Excercise 1\n"
   ]
  },
  {
   "cell_type": "code",
   "execution_count": 11,
   "metadata": {},
   "outputs": [
    {
     "name": "stdout",
     "output_type": "stream",
     "text": [
      "2024-06-17 15:17:23.784515\n",
      "2024-06-17\n",
      "257 days, 8:42:36.215485\n"
     ]
    }
   ],
   "source": [
    "#1 Get the current date and time\n",
    "import datetime\n",
    "now = datetime.datetime.now()\n",
    "print(now)\n",
    "#2 Format the date and time as YYYY-MM-DD\n",
    "print(now.strftime(\"%Y-%m-%d\"))\n",
    "#3 Calculate the number of days until your next birth day\n",
    "bday = \"2025-03-02\"\n",
    "date_obj_bday = datetime.datetime.strptime(bday, \"%Y-%m-%d\")\n",
    "print(date_obj_bday - now)"
   ]
  },
  {
   "cell_type": "markdown",
   "metadata": {},
   "source": [
    "# Excercise 2"
   ]
  },
  {
   "cell_type": "code",
   "execution_count": 28,
   "metadata": {},
   "outputs": [
    {
     "name": "stdout",
     "output_type": "stream",
     "text": [
      "{'Gerald', 'Mark', 'Carl', 'Justin'}\n"
     ]
    }
   ],
   "source": [
    "#1 Create a dictionary of 3 students and their grades\n",
    "dict1 = {\n",
    "    \"Justin\" : \"95\",\n",
    "    \"Mark\" : \"77\",\n",
    "    \"Gerald\": \"89\"\n",
    "}\n",
    "#2 Add a fourth student to the dictionary\n",
    "dict1[\"Carl\"] = \"99\"\n",
    "\n",
    "#3 Change the value of each student to another dictonary of their classes\n",
    "dict1[\"Justin\"] = {\"math\" : \"97\",\n",
    "                   \"history\" : \"87\"\n",
    "    }\n",
    "dict1[\"Mark\"] = { \"CS\": \"97\",\n",
    "                 \"English\": \"88\"\n",
    "}\n",
    "dict1[\"Gerald\"] = {\"Math\": \"88\",\n",
    "                   \"Science\" : \"99\"\n",
    "}\n",
    "dict1[\"Carl\"] = {\"Science\" : \"100\"\n",
    "}\n",
    "#4 Add all the names of the students to a set\n",
    "name_set = set()\n",
    "for k in dict1.keys():\n",
    "    name_set.add(k)\n",
    "\n",
    "print(name_set)"
   ]
  },
  {
   "cell_type": "markdown",
   "metadata": {},
   "source": [
    "# Excercise 3"
   ]
  },
  {
   "cell_type": "code",
   "execution_count": 19,
   "metadata": {},
   "outputs": [
    {
     "name": "stdout",
     "output_type": "stream",
     "text": [
      "['Hello', 'this', 'is', 'a', 'string', 'with', 'a', 'bunch', 'of', 'words']\n",
      "Hello|this|is|a|string|with|a|bunch|of|words\n",
      "2\n"
     ]
    }
   ],
   "source": [
    "#1 Split a string into a list of words\n",
    "myString = \"Hello this is a string with a bunch of words\"\n",
    "myList = myString.split()\n",
    "print(myList)\n",
    "#2 Join a list of words into a single string with pipes seperating them\n",
    "pipeString = \"|\".join(myList)\n",
    "print(pipeString)\n",
    "#3 Count the number of occurances of a character in a string\n",
    "print(myString.count(\"l\"))\n"
   ]
  },
  {
   "cell_type": "markdown",
   "metadata": {},
   "source": [
    "# Excercise 4\n"
   ]
  },
  {
   "cell_type": "code",
   "execution_count": 16,
   "metadata": {},
   "outputs": [],
   "source": [
    "#1 Create a list of integers\n",
    "list1 = [1, 2, 3, 4, 5]\n",
    "#2 Append an integer to the list\n",
    "list1.append(6)\n",
    "#3 Remove an integer from the list\n",
    "list1.remove(2)\n",
    "#4 Sort the list in ascending order\n",
    "list1.sort()"
   ]
  },
  {
   "cell_type": "markdown",
   "metadata": {},
   "source": [
    "# Challenge 1 "
   ]
  },
  {
   "cell_type": "code",
   "execution_count": 34,
   "metadata": {},
   "outputs": [
    {
     "name": "stdout",
     "output_type": "stream",
     "text": [
      "[1, 4, 9, 16, 25, 36, 49, 64, 81, 100]\n",
      "4\n",
      "16\n",
      "36\n",
      "64\n",
      "100\n"
     ]
    },
    {
     "ename": "IndexError",
     "evalue": "list index out of range",
     "output_type": "error",
     "traceback": [
      "\u001b[1;31m---------------------------------------------------------------------------\u001b[0m",
      "\u001b[1;31mIndexError\u001b[0m                                Traceback (most recent call last)",
      "Cell \u001b[1;32mIn[34], line 6\u001b[0m\n\u001b[0;32m      4\u001b[0m \u001b[38;5;66;03m#2 Filter a list to include only even numbers\u001b[39;00m\n\u001b[0;32m      5\u001b[0m \u001b[38;5;28;01mfor\u001b[39;00m i \u001b[38;5;129;01min\u001b[39;00m \u001b[38;5;28mrange\u001b[39m(\u001b[38;5;241m1\u001b[39m,\u001b[38;5;241m11\u001b[39m):\n\u001b[1;32m----> 6\u001b[0m     \u001b[38;5;28;01mif\u001b[39;00m(\u001b[43msquares\u001b[49m\u001b[43m[\u001b[49m\u001b[43mi\u001b[49m\u001b[43m]\u001b[49m\u001b[38;5;241m%\u001b[39m\u001b[38;5;241m2\u001b[39m \u001b[38;5;241m==\u001b[39m \u001b[38;5;241m0\u001b[39m):\n\u001b[0;32m      7\u001b[0m         \u001b[38;5;28mprint\u001b[39m(squares[i]) \n",
      "\u001b[1;31mIndexError\u001b[0m: list index out of range"
     ]
    }
   ],
   "source": [
    "#1 Use a list comprehension to create a list of squares of integers from 1 to 10\n",
    "squares = [i*i for i in range(1, 11)]\n",
    "print(squares)\n",
    "#2 Filter a list to include only even numbers\n",
    "for i in range(1,11):\n",
    "    if(squares[i]%2 == 0):\n",
    "        print(squares[i]) "
   ]
  }
 ],
 "metadata": {
  "kernelspec": {
   "display_name": "Python 3",
   "language": "python",
   "name": "python3"
  },
  "language_info": {
   "codemirror_mode": {
    "name": "ipython",
    "version": 3
   },
   "file_extension": ".py",
   "mimetype": "text/x-python",
   "name": "python",
   "nbconvert_exporter": "python",
   "pygments_lexer": "ipython3",
   "version": "3.10.4"
  }
 },
 "nbformat": 4,
 "nbformat_minor": 2
}
