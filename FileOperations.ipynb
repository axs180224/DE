{
 "cells": [
  {
   "cell_type": "code",
   "execution_count": null,
   "metadata": {},
   "outputs": [],
   "source": [
    "#File Operations\n",
    "\n",
    "#Open() for working with files\n",
    "# 'r' read- read only access, errors if file doesnt exist  \n",
    "# 'w' write- open for writing, will create a file if doesnt exist\n",
    "# 'a' append- any text gets added to end, will create a file if it doesnt exist\n",
    "# 'x' create a file if it doesnt exist, error if the file does exist\n",
    "\n",
    "#Types of data we can read in\n",
    "# 't' text data\n",
    "# 'b' bytes/binary\n",
    "\n",
    "# deafult is 'rt' -read text"
   ]
  },
  {
   "cell_type": "code",
   "execution_count": 22,
   "metadata": {},
   "outputs": [
    {
     "name": "stdout",
     "output_type": "stream",
     "text": [
      "The Project Gutenberg eBook of Pride and Prejudice\n"
     ]
    }
   ],
   "source": [
    "# canonical path is the full path from the root of the computer\n",
    "# relative path is \n",
    "file_path = \"C:\\\\Users\\\\anand\\\\Desktop\\\\20240617-DE-TS-LectureMaterials\\\\Python\\\\Data\\\\Pride_and_Prejudice.txt\"\n",
    "f = open(file = file_path, mode = 'rt', encoding = \"utf-8\")\n",
    "\n",
    "#read the whole thing\n",
    "whole_book = f.read()\n",
    "\n",
    "print(whole_book[:51])\n",
    "f.close()"
   ]
  },
  {
   "cell_type": "code",
   "execution_count": 24,
   "metadata": {},
   "outputs": [
    {
     "name": "stdout",
     "output_type": "stream",
     "text": [
      "The Project Gutenberg eBook of Pride and Prejudice\n",
      "\n",
      "Pride and Prejudice\n"
     ]
    }
   ],
   "source": [
    "#we can search for a specific character\n",
    "f=  open(file = file_path, mode = 'rt', encoding = \"utf-8\")\n",
    "f.seek(0) \n",
    "print(f.read(51))\n",
    "\n",
    "f.seek(944)\n",
    "print(f.read(20))\n",
    "\n",
    "#remember to always close files\n",
    "f.close()"
   ]
  },
  {
   "cell_type": "code",
   "execution_count": 29,
   "metadata": {},
   "outputs": [
    {
     "name": "stdout",
     "output_type": "stream",
     "text": [
      "The Project Gutenberg eBook of Pride and Prejudice, by Jane Austen\n",
      "\n"
     ]
    }
   ],
   "source": [
    "#automatically closes at the end\n",
    "with open(file = file_path, mode = 'rt', encoding = 'utf-8') as f:\n",
    "   #book = f.read() - read entire text as a string\n",
    "  # lines = f.readlines() - put all lines into list\n",
    "  line = f.readline() # read a single line in as a string\n",
    "\n",
    "\n",
    "#print(type(book))\n",
    "#print(lines[150])\n",
    "print(line)"
   ]
  },
  {
   "cell_type": "code",
   "execution_count": 33,
   "metadata": {},
   "outputs": [],
   "source": [
    "#write a file\n",
    "\n",
    "output_file = \"../desktop/output.txt\"\n",
    "line1 = \"Writing something to my file\\n\"\n",
    "lines2_3 = ['This is the second line\\n', 'This is the third line\\n']\n",
    "line4 = \"This will be the only line\\n\"\n",
    "with open(file = output_file, mode = 'wt', encoding = 'utf-8') as f:\n",
    "    f.write(line1) \n",
    "\n",
    "with open(file = output_file, mode = 'at', encoding = 'utf-8') as f:\n",
    "    f.writelines(lines2_3)\n",
    "\n",
    "with open(file = output_file, mode = 'wt', encoding = 'utf-8') as f:\n",
    "    f.write(line4)\n"
   ]
  },
  {
   "cell_type": "code",
   "execution_count": null,
   "metadata": {},
   "outputs": [],
   "source": []
  }
 ],
 "metadata": {
  "kernelspec": {
   "display_name": "Python 3",
   "language": "python",
   "name": "python3"
  },
  "language_info": {
   "codemirror_mode": {
    "name": "ipython",
    "version": 3
   },
   "file_extension": ".py",
   "mimetype": "text/x-python",
   "name": "python",
   "nbconvert_exporter": "python",
   "pygments_lexer": "ipython3",
   "version": "3.10.4"
  }
 },
 "nbformat": 4,
 "nbformat_minor": 2
}
