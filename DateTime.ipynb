{
 "cells": [
  {
   "cell_type": "code",
   "execution_count": 3,
   "metadata": {},
   "outputs": [
    {
     "name": "stdout",
     "output_type": "stream",
     "text": [
      "2024-06-17 12:11:51.089614\n",
      "2024-06-17\n",
      "<class 'datetime.date'>\n"
     ]
    }
   ],
   "source": [
    "# Datetime Module\n",
    "\n",
    "#This will help us create Datetime objects\n",
    "#Limited support for timezones\n",
    "import datetime\n",
    "\n",
    "#Formatting: Year, month, day, hour, minute, second, microsecond\n",
    "\n",
    "print(datetime.datetime.now())\n",
    "print(datetime.date.today())\n",
    "\n",
    "print(type(datetime.date.today()))"
   ]
  },
  {
   "cell_type": "code",
   "execution_count": 7,
   "metadata": {},
   "outputs": [
    {
     "name": "stdout",
     "output_type": "stream",
     "text": [
      "Monday\n",
      "06-17-2024\n"
     ]
    }
   ],
   "source": [
    "#formatting a datetime obj\n",
    "#Europe: day - month - year\n",
    "now = datetime.datetime.now()\n",
    "\n",
    "print(now.strftime(\"%A\"))\n",
    "\n",
    "print(now.strftime(\"%m-%d-%Y\"))\n",
    "\n"
   ]
  },
  {
   "cell_type": "code",
   "execution_count": 9,
   "metadata": {},
   "outputs": [
    {
     "name": "stdout",
     "output_type": "stream",
     "text": [
      "2024-06-17 00:00:00\n"
     ]
    }
   ],
   "source": [
    "#parse a string with datetime module\n",
    "date = \"2024-06-17\"\n",
    "date_obj = datetime.datetime.strptime(date, \"%Y-%m-%d\")\n",
    "print(date_obj)"
   ]
  },
  {
   "cell_type": "code",
   "execution_count": 10,
   "metadata": {},
   "outputs": [
    {
     "name": "stdout",
     "output_type": "stream",
     "text": [
      "1718644901.3772182\n"
     ]
    }
   ],
   "source": [
    "# Time module\n",
    "# Unix Time\n",
    "# Number of seconds since January 1st, 1970 UTC\n",
    "import time\n",
    "print(time.time())"
   ]
  }
 ],
 "metadata": {
  "kernelspec": {
   "display_name": "Python 3",
   "language": "python",
   "name": "python3"
  },
  "language_info": {
   "codemirror_mode": {
    "name": "ipython",
    "version": 3
   },
   "file_extension": ".py",
   "mimetype": "text/x-python",
   "name": "python",
   "nbconvert_exporter": "python",
   "pygments_lexer": "ipython3",
   "version": "3.10.4"
  }
 },
 "nbformat": 4,
 "nbformat_minor": 2
}
