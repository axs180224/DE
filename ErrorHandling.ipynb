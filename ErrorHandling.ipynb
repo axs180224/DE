{
 "cells": [
  {
   "cell_type": "code",
   "execution_count": 2,
   "metadata": {},
   "outputs": [
    {
     "name": "stdout",
     "output_type": "stream",
     "text": [
      "num is not defined\n"
     ]
    }
   ],
   "source": [
    "#error handling in try except blocks\n",
    "#except catches all exceptions\n",
    "try:\n",
    "    print(num)\n",
    "except:\n",
    "    print(\"num is not defined\")"
   ]
  },
  {
   "cell_type": "code",
   "execution_count": null,
   "metadata": {},
   "outputs": [],
   "source": [
    "#we can get specfic with it\n",
    "#we can give specific exceptions to watch for\n",
    "\n",
    "try:\n",
    "    f = open(\"../Desktop/example.txt\")\n",
    "except IOError:\n",
    "    print(\"File not found\")\n",
    "finally:\n",
    "    f.close()"
   ]
  },
  {
   "cell_type": "code",
   "execution_count": 3,
   "metadata": {},
   "outputs": [
    {
     "name": "stdout",
     "output_type": "stream",
     "text": [
      "u cant do this\n"
     ]
    }
   ],
   "source": [
    "x =3\n",
    "y = 'banana'\n",
    "try:\n",
    "    print(x+y)\n",
    "except TypeError:\n",
    "    print(\"u cant do this\")\n"
   ]
  },
  {
   "cell_type": "code",
   "execution_count": null,
   "metadata": {},
   "outputs": [],
   "source": [
    "#raise is same as throwing error\n",
    "x = \"NaN\"\n",
    "if not type(x) is int:\n",
    "    raise TypeError(\"X needs to be a number\")"
   ]
  }
 ],
 "metadata": {
  "kernelspec": {
   "display_name": "Python 3",
   "language": "python",
   "name": "python3"
  },
  "language_info": {
   "codemirror_mode": {
    "name": "ipython",
    "version": 3
   },
   "file_extension": ".py",
   "mimetype": "text/x-python",
   "name": "python",
   "nbconvert_exporter": "python",
   "pygments_lexer": "ipython3",
   "version": "3.10.4"
  }
 },
 "nbformat": 4,
 "nbformat_minor": 2
}
