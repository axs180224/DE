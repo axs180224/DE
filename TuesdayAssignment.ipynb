{
 "cells": [
  {
   "cell_type": "code",
   "execution_count": 26,
   "metadata": {},
   "outputs": [
    {
     "name": "stdout",
     "output_type": "stream",
     "text": [
      "True\n",
      "True\n",
      "True\n",
      "True\n",
      "True\n"
     ]
    }
   ],
   "source": [
    "# Exercise 1: String Validator\n",
    "def validate_string(uinput):\n",
    "    print(any(char.isalnum() for char in uinput)) # alphanumeric \n",
    "    print(any(char.isalpha() for char in uinput)) # alphabetical\n",
    "    print(any(char.isdigit() for char in uinput)) # Digits\n",
    "    print(any(char.islower() for char in uinput)) # lower case \n",
    "    print(any(char.isupper() for char in uinput)) # Upper case   \n",
    "\n",
    "# u_input = input(\"Enter some text you wanna check: \")\n",
    "# validate_string(u_input)\n",
    "validate_string(\"Check this text 3\")"
   ]
  },
  {
   "cell_type": "code",
   "execution_count": 24,
   "metadata": {},
   "outputs": [
    {
     "name": "stdout",
     "output_type": "stream",
     "text": [
      "<re.Match object; span=(0, 7), match='Welcome'>\n",
      "[' 3', ' 1']\n",
      "None\n",
      "['123']\n",
      "['l', 'l']\n"
     ]
    },
    {
     "data": {
      "text/plain": [
       "['Welcome', 'to', '3', 'Skillstorm', '123', 'billing']"
      ]
     },
     "execution_count": 24,
     "metadata": {},
     "output_type": "execute_result"
    }
   ],
   "source": [
    "# Exercise 2: Regular Expressions\n",
    "\n",
    "import re\n",
    "string = \"Welcome to 3 Skillstorm! 123 billing\"\n",
    "# Any word at the beginning of a string\n",
    "match1 = re.search(r\"^\\w+\", string) \n",
    "print(match1)\n",
    "# Any time that the character after a whitespace is a digit\n",
    "match2 = re.findall(r\"\\s\\d\", string)\n",
    "print(match2)\n",
    "# any word with punctuation at the end of a string\n",
    "match3 = re.search(r\"[a-zA-Z]+[!?.;:]+$\", string)\n",
    "print(match3)\n",
    "# any occurances of consecutive digits 1,2, 3\n",
    "match4 = re.findall(r\"123\", string)\n",
    "print(match4)\n",
    "#any word with double letters\n",
    "match5 = re.findall(r\"\\b\\w*(\\w)\\1\\w*\\b\", string)\n",
    "\n",
    "# \\b.*([a-zA-Z])\\1.*\\b\n",
    "print(match5)\n",
    "\n"
   ]
  },
  {
   "cell_type": "code",
   "execution_count": 25,
   "metadata": {},
   "outputs": [
    {
     "name": "stdout",
     "output_type": "stream",
     "text": [
      "124749\n"
     ]
    }
   ],
   "source": [
    "# Exercise 3: Word count \n",
    "total_words = 0\n",
    "file_path = \"C:\\\\Users\\\\anand\\\\Desktop\\\\20240617-DE-TS-LectureMaterials\\\\Python\\\\Data\\\\Pride_and_Prejudice.txt\"\n",
    "with open(file = file_path, mode = 'rt', encoding = 'utf-8') as f:\n",
    "    for line in f:\n",
    "        words = line.split()\n",
    "        total_words = total_words + len(words)\n",
    "\n",
    "print(total_words)\n"
   ]
  },
  {
   "cell_type": "code",
   "execution_count": 32,
   "metadata": {},
   "outputs": [
    {
     "name": "stdout",
     "output_type": "stream",
     "text": [
      "4\n"
     ]
    }
   ],
   "source": [
    "#Exercise 4: word score\n",
    "def word_score(*words):\n",
    "    total_score = 1\n",
    "    vowels = \"AaEeIiOoUuYy\"\n",
    "    \n",
    "    for word in words:\n",
    "        num_vowels = sum(1 for char in word if char in vowels)\n",
    "        if num_vowels % 2 == 0:\n",
    "            total_score += 2\n",
    "        else:\n",
    "            total_score += 1\n",
    "    \n",
    "    return total_score\n",
    "\n",
    "print(word_score(\"programming\", \"is\", \"fun\"))"
   ]
  }
 ],
 "metadata": {
  "kernelspec": {
   "display_name": "Python 3",
   "language": "python",
   "name": "python3"
  },
  "language_info": {
   "codemirror_mode": {
    "name": "ipython",
    "version": 3
   },
   "file_extension": ".py",
   "mimetype": "text/x-python",
   "name": "python",
   "nbconvert_exporter": "python",
   "pygments_lexer": "ipython3",
   "version": "3.10.4"
  }
 },
 "nbformat": 4,
 "nbformat_minor": 2
}
