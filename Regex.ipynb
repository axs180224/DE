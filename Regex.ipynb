{
 "cells": [
  {
   "cell_type": "code",
   "execution_count": 1,
   "metadata": {},
   "outputs": [],
   "source": [
    "#regular expression (RegEx)\n",
    "#powerful text pattern recognition\n",
    "#tricky to use\n",
    "#use it to find patterns within strings\n",
    "\n",
    "import re "
   ]
  },
  {
   "cell_type": "code",
   "execution_count": 7,
   "metadata": {},
   "outputs": [
    {
     "name": "stdout",
     "output_type": "stream",
     "text": [
      "<re.Match object; span=(0, 22), match='Welcome to Skillstorm!'>\n",
      "True\n",
      "<re.Match object; span=(0, 7), match='Welcome'>\n"
     ]
    }
   ],
   "source": [
    "#re methods \n",
    "#re.findall() return a list of match objects\n",
    "#re.search() return first match\n",
    "#re.split() return a list where the string has been split at the match\n",
    "#re.sub() return any number of matches within our string\n",
    "\n",
    "string = \"Welcome to Skillstorm!\"\n",
    "match = re.search(\"^Welcome.*storm!$\", string)\n",
    "match3 = re.search(r\"^\\w+\", string) #the first word in any string\n",
    "\n",
    "print(match)\n",
    "print(\"Skillstorm!\" in string)\n",
    "print(match3)"
   ]
  },
  {
   "cell_type": "code",
   "execution_count": 10,
   "metadata": {},
   "outputs": [
    {
     "name": "stdout",
     "output_type": "stream",
     "text": [
      "\u0007\n",
      "\\a\n",
      "['Welcome', 'to', 'Skillstorm']\n",
      "['', 'elcome to Skillstorm!']\n"
     ]
    }
   ],
   "source": [
    "#RegEx Operators\n",
    "# \\ is an escape character\n",
    "# We can use a raw string r\"string\"\n",
    "print(\"\\a\")\n",
    "print(r\"\\a\")\n",
    "\n",
    "# \\A or ^ Matches the beginning of the string\n",
    "# \\b - match characters at the beginning or rend of a word\n",
    "# \\B - match characters NOT at the beginning or end of a word\n",
    "# \\d - matches a digit 0-9\n",
    "# \\D - matches NOT a digit\n",
    "# \\s - match a whitespace character\n",
    "# \\S - matches NOT a whitespace character\n",
    "# \\w - match a-z, A-Z, 0-9, _\n",
    "# \\W - matches NOT those things above\n",
    "# \\Z or $ - matches at the end of the string\n",
    "\n",
    "# Meta characters\n",
    "# [] - A set of characters [a-z] [abcde]\n",
    "# . = any ONE character\n",
    "# ^ - when used inside of [] it becomes NOT operator\n",
    "# $ - ends with\n",
    "# * - Zero or more of\n",
    "# + - One or more of\n",
    "# ? - Zero or One of \n",
    "# {n} - n occurances of\n",
    "# | - Either or\n",
    "# () - capture and group\n",
    "\n",
    "word_list = re.findall(r'\\w+', string) # list of all whole words spereated by whitespace\n",
    "print(word_list)\n",
    "\n",
    "split_list = re.split(\"W\", string)\n",
    "print(split_list)\n"
   ]
  }
 ],
 "metadata": {
  "kernelspec": {
   "display_name": "Python 3",
   "language": "python",
   "name": "python3"
  },
  "language_info": {
   "codemirror_mode": {
    "name": "ipython",
    "version": 3
   },
   "file_extension": ".py",
   "mimetype": "text/x-python",
   "name": "python",
   "nbconvert_exporter": "python",
   "pygments_lexer": "ipython3",
   "version": "3.10.4"
  }
 },
 "nbformat": 4,
 "nbformat_minor": 2
}
