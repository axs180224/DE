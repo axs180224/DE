{
 "cells": [
  {
   "cell_type": "code",
   "execution_count": 92,
   "metadata": {},
   "outputs": [],
   "source": [
    "class ComputerComponent:\n",
    "    def __init__(self, manu, model, serial_num):\n",
    "        self.manu = manu\n",
    "        self.model = model\n",
    "        self.serial_num = serial_num\n",
    "     \n",
    "    def __str__(self):\n",
    "       return f\"The manufacturer is: {self.manu} \\nThe model is: {self.model} \\nThe serial number is: {self.serial_num}\\n\"\n",
    "    \n"
   ]
  },
  {
   "cell_type": "code",
   "execution_count": 93,
   "metadata": {},
   "outputs": [
    {
     "name": "stdout",
     "output_type": "stream",
     "text": [
      "The manufacturer is: Intel \n",
      "The model is: i7 \n",
      "The serial number is: 237465733\n",
      "\n"
     ]
    }
   ],
   "source": [
    "mycc1 = ComputerComponent('Intel','i7', '237465733')\n",
    "print(mycc1)"
   ]
  },
  {
   "cell_type": "code",
   "execution_count": 115,
   "metadata": {},
   "outputs": [],
   "source": [
    "class CPU(ComputerComponent):\n",
    "    def __init__(self, manu, model, serial_num, cores, clock_speed):\n",
    "        super().__init__(manu, model, serial_num)\n",
    "        self.cores = cores\n",
    "        self.clock_speed = clock_speed\n",
    "    \n",
    "    def __str__(self):\n",
    "        return \"\\nCPU Info: \\n\"+ super().__str__() + \"Cores: \" + str(self.cores) + \"\\nClock Speed: \" + str(self.clock_speed)\n",
    "class Memory(ComputerComponent):\n",
    "    def __init__(self, manu, model, serial_num, capacity):\n",
    "        super().__init__(manu, model, serial_num)\n",
    "        self.capacity = capacity\n",
    "    def __str__(self):\n",
    "        return \"\\nMemory info: \\n\" + super().__str__() + \"\\nCapacity: \" + str(self.capacity)\n",
    "    \n",
    "class Storage(ComputerComponent):\n",
    "    def __init__(self, manu, model, serial_num, storage_type, size):\n",
    "        super().__init__(manu, model, serial_num)\n",
    "        self.storage_type = storage_type\n",
    "        self.size = size\n",
    "    def __str__(self):\n",
    "        return \"\\nStorage info: \\n\" + super().__str__() + \"\\nStorage Type: \" + str(self.storage_type) + \"\\nSize:\" + str(self.size)\n",
    "\n"
   ]
  },
  {
   "cell_type": "code",
   "execution_count": 143,
   "metadata": {},
   "outputs": [],
   "source": [
    "class Computer:\n",
    "    def __init__(self, cpu, memory, storage):\n",
    "        if(isinstance(cpu, ComputerComponent) | isinstance(storage, ComputerComponent)\n",
    "           | isinstance(memory, ComputerComponent) == False):\n",
    "            raise TypeError(\" You have entered the wrong type\")\n",
    "        self.cpu = cpu\n",
    "        self.memory = memory\n",
    "        self.storage = storage\n",
    "    \n",
    "    def __str__(self):\n",
    "        return f'Computer details: \\n {self.cpu}  \\n {self.memory} \\n {self.storage}'\n",
    "    \n",
    "    def changeComps(self, component):\n",
    "        if(isinstance(component, CPU)):\n",
    "            self.cpu = component\n",
    "        elif(isinstance(component, Memory)):\n",
    "            self.memory = component\n",
    "        elif(isinstance(component, Storage)):\n",
    "            self.storage = component\n",
    "        else:\n",
    "            return TypeError('You tried to replace the wrong type')\n",
    "\n"
   ]
  },
  {
   "cell_type": "code",
   "execution_count": 144,
   "metadata": {},
   "outputs": [],
   "source": [
    "my_cpu = CPU(\"Intel\",\"i7\", '3472347823', 8, '4GhZ')\n",
    "my_mem = Memory(\"Intel\", 'RAM', '37348734', \"100GB\")\n",
    "my_strg = Storage(\"Intel\", 'ROM', '342234324', 'SSD', '1TB')"
   ]
  },
  {
   "cell_type": "code",
   "execution_count": 145,
   "metadata": {},
   "outputs": [
    {
     "name": "stdout",
     "output_type": "stream",
     "text": [
      "\n",
      "CPU Info: \n",
      "The manufacturer is: Intel \n",
      "The model is: i7 \n",
      "The serial number is: 3472347823\n",
      "Cores: 8\n",
      "Clock Speed: 4GhZ\n",
      "\n",
      "Memory info: \n",
      "The manufacturer is: Intel \n",
      "The model is: RAM \n",
      "The serial number is: 37348734\n",
      "\n",
      "Capacity: 100GB\n",
      "\n",
      "Storage info: \n",
      "The manufacturer is: Intel \n",
      "The model is: ROM \n",
      "The serial number is: 342234324\n",
      "\n",
      "Storage Type: SSD\n",
      "Size:1TB\n"
     ]
    }
   ],
   "source": [
    "print(my_cpu)\n",
    "print(my_mem)\n",
    "print(my_strg)"
   ]
  },
  {
   "cell_type": "code",
   "execution_count": 146,
   "metadata": {},
   "outputs": [],
   "source": [
    "my_comp = Computer(my_cpu, my_mem, my_strg)"
   ]
  },
  {
   "cell_type": "code",
   "execution_count": 147,
   "metadata": {},
   "outputs": [
    {
     "name": "stdout",
     "output_type": "stream",
     "text": [
      "Computer details: \n",
      " \n",
      "CPU Info: \n",
      "The manufacturer is: Intel \n",
      "The model is: i7 \n",
      "The serial number is: 3472347823\n",
      "Cores: 8\n",
      "Clock Speed: 4GhZ  \n",
      " \n",
      "Memory info: \n",
      "The manufacturer is: Intel \n",
      "The model is: RAM \n",
      "The serial number is: 37348734\n",
      "\n",
      "Capacity: 100GB \n",
      " \n",
      "Storage info: \n",
      "The manufacturer is: Intel \n",
      "The model is: ROM \n",
      "The serial number is: 342234324\n",
      "\n",
      "Storage Type: SSD\n",
      "Size:1TB\n"
     ]
    }
   ],
   "source": [
    "print(my_comp)"
   ]
  },
  {
   "cell_type": "code",
   "execution_count": null,
   "metadata": {},
   "outputs": [],
   "source": []
  }
 ],
 "metadata": {
  "kernelspec": {
   "display_name": ".venv",
   "language": "python",
   "name": "python3"
  },
  "language_info": {
   "codemirror_mode": {
    "name": "ipython",
    "version": 3
   },
   "file_extension": ".py",
   "mimetype": "text/x-python",
   "name": "python",
   "nbconvert_exporter": "python",
   "pygments_lexer": "ipython3",
   "version": "3.10.4"
  }
 },
 "nbformat": 4,
 "nbformat_minor": 2
}
