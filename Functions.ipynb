{
 "cells": [
  {
   "cell_type": "code",
   "execution_count": 2,
   "metadata": {},
   "outputs": [],
   "source": [
    "#Functions\n",
    "#procedure that is repeatable\n",
    "# takes inputs and can produce an output\n",
    "\n",
    "def calculate_area(length: int = 9, width: int = 3) -> int:\n",
    "    return length * width"
   ]
  },
  {
   "cell_type": "code",
   "execution_count": 4,
   "metadata": {},
   "outputs": [
    {
     "name": "stdout",
     "output_type": "stream",
     "text": [
      "30\n",
      "20\n"
     ]
    }
   ],
   "source": [
    "print(calculate_area(5,6))\n",
    "\n",
    "print(calculate_area(width = 4, length= 5))"
   ]
  },
  {
   "cell_type": "code",
   "execution_count": 5,
   "metadata": {},
   "outputs": [],
   "source": [
    "# method overriding - override a parents method \n",
    "class Shape:\n",
    "    def area(length, width):\n",
    "        return length * width\n",
    "\n",
    "class Triangle(Shape):\n",
    "    def area(length, width, height):\n",
    "        return 0.5*height*length*width\n",
    "\n"
   ]
  },
  {
   "cell_type": "code",
   "execution_count": null,
   "metadata": {},
   "outputs": [],
   "source": [
    "# Method Overloading- is having two of the same methods with different arguments\n",
    "def method_1(x, y):\n",
    "    return x+y\n",
    "#Python cant overload it overwrites \n"
   ]
  },
  {
   "cell_type": "code",
   "execution_count": 8,
   "metadata": {},
   "outputs": [
    {
     "name": "stdout",
     "output_type": "stream",
     "text": [
      "We still need to pick up 3 from the store\n"
     ]
    }
   ],
   "source": [
    "# if we dont know how many arguments will be passed in we use *args\n",
    "\n",
    "def shopping_list(*items):\n",
    "    print(f\"We still need to pick up {len(items)} from the store\")\n",
    "\n",
    "shopping_list(\"fruit\", \"apple\", \"chicken\")"
   ]
  },
  {
   "cell_type": "code",
   "execution_count": 11,
   "metadata": {},
   "outputs": [
    {
     "name": "stdout",
     "output_type": "stream",
     "text": [
      "{'food': 'fruit', 'veggie': 'kale', 'meat': 'chicken'}\n",
      "We still need to pick up 3 from the store\n"
     ]
    }
   ],
   "source": [
    "# We also have **kwargs\n",
    "def shopping_list(**items):\n",
    "    print(items)\n",
    "    print(f\"We still need to pick up {len(items)} from the store\")\n",
    "\n",
    "shopping_list(food =\"fruit\", veggie = \"kale\", meat = \"chicken\")"
   ]
  },
  {
   "cell_type": "code",
   "execution_count": 13,
   "metadata": {},
   "outputs": [
    {
     "name": "stdout",
     "output_type": "stream",
     "text": [
      "[0, 1, 1, 2, 3, 5, 8, 13, 21, 34]\n"
     ]
    }
   ],
   "source": [
    "#recursive functions\n",
    "\n",
    "def fibonacci(n):\n",
    "    if(n <= 1):\n",
    "        return n\n",
    "    return fibonacci(n-1) + fibonacci(n-2)\n",
    "\n",
    "print([fibonacci(n) for n in range(10)])"
   ]
  },
  {
   "cell_type": "code",
   "execution_count": 15,
   "metadata": {},
   "outputs": [
    {
     "name": "stdout",
     "output_type": "stream",
     "text": [
      "[2, 4, 6, 8]\n",
      "[1, 4, 9, 16, 25, 36, 49, 64, 81]\n"
     ]
    }
   ],
   "source": [
    "#lambda function\n",
    "#anonymous function\n",
    "\n",
    "numbers = [1, 2, 3, 4, 5, 6, 7, 8, 9]\n",
    "even_numbers = list(filter(lambda x: (x%2 == 0), numbers))\n",
    "print(even_numbers)\n",
    "\n",
    "squares = list(map(lambda x: x**2, numbers))\n",
    "\n",
    "print(squares)"
   ]
  },
  {
   "cell_type": "code",
   "execution_count": null,
   "metadata": {},
   "outputs": [],
   "source": []
  }
 ],
 "metadata": {
  "kernelspec": {
   "display_name": "Python 3",
   "language": "python",
   "name": "python3"
  },
  "language_info": {
   "codemirror_mode": {
    "name": "ipython",
    "version": 3
   },
   "file_extension": ".py",
   "mimetype": "text/x-python",
   "name": "python",
   "nbconvert_exporter": "python",
   "pygments_lexer": "ipython3",
   "version": "3.10.4"
  }
 },
 "nbformat": 4,
 "nbformat_minor": 2
}
